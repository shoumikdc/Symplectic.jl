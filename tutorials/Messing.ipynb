{
 "cells": [
  {
   "cell_type": "markdown",
   "id": "6933e957",
   "metadata": {},
   "source": [
    "# Analysis of a 3-Mode Transducer \n",
    "Consider an imperfect electro-optical transducer. The coupling is given via an optomechanical interaction $H_I \\simeq a^\\dagger a (b + b^\\dagger)$. We can then coherently pump the optical mode $a \\mapsto \\alpha + a$, and linearize about the large coherent amplitude $\\alpha$. This gives a Hamiltonian:\n",
    "\n",
    "$$H = \\Delta_{\\rm o} a^\\dagger a + \\omega_{\\rm m} b^\\dagger b + g_{\\rm om}(a+a^\\dagger)(b+b^\\dagger)$$\n"
   ]
  },
  {
   "cell_type": "code",
   "execution_count": null,
   "id": "2cbe1ead",
   "metadata": {},
   "outputs": [],
   "source": [
    "using Symplectic\n",
    "using LinearAlgebra\n",
    "using Plots "
   ]
  },
  {
   "cell_type": "markdown",
   "id": "cd10f2bc",
   "metadata": {},
   "source": [
    "## Test: Generate S Matrix Directly"
   ]
  },
  {
   "cell_type": "code",
   "execution_count": null,
   "id": "558e94cb",
   "metadata": {},
   "outputs": [],
   "source": [
    "\"\"\"\n",
    "function generate_H_matrix(ω, ωo, ωμ, ko, kμ, g_oμ)\n",
    "   \n",
    "    T(ω) = ω*I(4) + [\n",
    "        [1im*ko/2-ωo  -g_oμ 0 -conj(g_oμ)/2];\n",
    "        [-conj(g_oμ) 1im*kμ/2-ωμ -conj(g_oμ)/2 0];\n",
    "        [0 g_oμ/2 1im*ko/2-ωo conj(g_oμ)];\n",
    "        [g_oμ/2 0 g_oμ 1im*kμ/2-ωμ]   \n",
    "    ]\n",
    "    \n",
    "    M = [T(ω) zeros(4,4); zeros(4,4) T(-ω)]\n",
    "    \n",
    "    Y = diagm([sqrt(ko), sqrt(kμ), sqrt(ko), sqrt(kμ)])\n",
    "    \n",
    "    W = [Y zeros(4,4); zeros(4,4) Y]\n",
    "    \n",
    "    U = [1 1im 0 0 0 0 0 0\n",
    "         0 0 1 1im 0 0 0 0\n",
    "         0 0 0 0 1 -1im 0 0\n",
    "         0 0 0 0 0 0 1 -1im\n",
    "         0 0 0 0 1 1im 0 0\n",
    "         0 0 0 0 0 0 1 1im\n",
    "         1 -1im 0 0 0 0 0 0\n",
    "         0 0 1 -1im 0 0 0 0]\n",
    "    \n",
    "    S = I(8) - W*inv(M)*M\n",
    "    \n",
    "    inv(U)*S*U\n",
    "    \n",
    "end\n",
    "\n",
    "U = [1 1im 0 0 0 0 0 0\n",
    "     0 0 1 1im 0 0 0 0\n",
    "     0 0 0 0 1 -1im 0 0\n",
    "     0 0 0 0 0 0 1 -1im\n",
    "     0 0 0 0 1 1im 0 0\n",
    "     0 0 0 0 0 0 1 1im\n",
    "     1 -1im 0 0 0 0 0 0\n",
    "     0 0 1 -1im 0 0 0 0]\n",
    "\"\"\""
   ]
  },
  {
   "cell_type": "markdown",
   "id": "bcb065b2",
   "metadata": {},
   "source": [
    "## Via Symplectic"
   ]
  },
  {
   "cell_type": "code",
   "execution_count": null,
   "id": "f4285d1d",
   "metadata": {},
   "outputs": [],
   "source": [
    "# Define System Parameters (GHz)\n",
    "Δo = 0.1\n",
    "ωm = 6.5\n",
    "gom = 0.2\n",
    "\n",
    "Κo"
   ]
  },
  {
   "cell_type": "code",
   "execution_count": null,
   "id": "53cd2c74",
   "metadata": {},
   "outputs": [],
   "source": [
    "# Define a Hamiltonian of coupled resonators\n",
    "cr = CoupledResonators()\n",
    "\n",
    "cr = addPassive(cr, Δo, 1, 1)\n",
    "cr = addPassive(cr, ωm, 2, 2)\n",
    "\n",
    "cr = addPassive(cr, gom, 1, 2)\n",
    "cr = addActive(cr, gom, 1, 2)\n",
    "\n",
    "cr = addGammaEx(cr, 0.05, 1)\n",
    "cr = addGammaEx(cr, 0.05, 2)\n",
    "\n",
    "S = scatteringMatrix( 0.0, cr )"
   ]
  },
  {
   "cell_type": "code",
   "execution_count": null,
   "id": "8b12f6d3",
   "metadata": {},
   "outputs": [],
   "source": []
  }
 ],
 "metadata": {
  "kernelspec": {
   "display_name": "Julia 1.7.2",
   "language": "julia",
   "name": "julia-1.7"
  },
  "language_info": {
   "file_extension": ".jl",
   "mimetype": "application/julia",
   "name": "julia",
   "version": "1.7.2"
  }
 },
 "nbformat": 4,
 "nbformat_minor": 5
}
